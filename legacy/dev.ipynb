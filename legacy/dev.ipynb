{
 "cells": [
  {
   "cell_type": "code",
   "execution_count": 2,
   "metadata": {},
   "outputs": [],
   "source": [
    "import gymnasium as gym\n",
    "import cv2\n",
    "import numpy as np\n"
   ]
  },
  {
   "cell_type": "code",
   "execution_count": 3,
   "metadata": {},
   "outputs": [],
   "source": [
    "# ====================================================\n",
    "# Q es la tabla con los Q-valores. PI es la politica\n",
    "# Durante el entrenamiento la politica elige al azar\n",
    "# 40% de las veces, mientras que elige la mejor\n",
    "# decision el 60%\n",
    "# ====================================================\n",
    "\n",
    "Q = np.zeros((16,4),dtype=np.float32)\n",
    "\n",
    "def pi(s,test=False):\n",
    "    if np.random.random()<0.4 and not test:\n",
    "        return np.random.randint(0,4)\n",
    "    else:\n",
    "        return np.random.choice(np.flatnonzero(Q[s] == Q[s].max()))\n",
    "    \n"
   ]
  },
  {
   "cell_type": "code",
   "execution_count": 17,
   "metadata": {},
   "outputs": [
    {
     "name": "stdout",
     "output_type": "stream",
     "text": [
      "[[0.9414797  0.95098966 0.93206483 0.9414797 ]\n",
      " [0.9414797  0.         0.9165489  0.93084145]\n",
      " [0.93154424 0.14802316 0.         0.        ]\n",
      " [0.2759033  0.         0.         0.        ]\n",
      " [0.95098966 0.96059567 0.         0.9414797 ]\n",
      " [0.         0.         0.         0.        ]\n",
      " [0.         0.9800986  0.         0.30212358]\n",
      " [0.         0.         0.         0.        ]\n",
      " [0.96059567 0.         0.9702987  0.95098966]\n",
      " [0.96059567 0.9800998  0.9800998  0.        ]\n",
      " [0.9702987  0.9899999  0.         0.97028995]\n",
      " [0.         0.         0.         0.        ]\n",
      " [0.         0.         0.         0.        ]\n",
      " [0.         0.9800998  0.9899999  0.9702987 ]\n",
      " [0.9800998  0.9899999  0.99999994 0.9800998 ]\n",
      " [0.         0.         0.         0.        ]]\n"
     ]
    }
   ],
   "source": [
    "# ==============================================================================\n",
    "# env es el environtmient. Gym pertence a OpenAI y es una especie de estandar\n",
    "# ==============================================================================\n",
    "env = gym.make('FrozenLake-v1', desc=None, map_name=\"4x4\", is_slippery=False,render_mode='rgb_array')\n",
    "\n",
    "alpha = 0.3\n",
    "gamma = 0.99\n",
    "\n",
    "\n",
    "for i in range(100):\n",
    "    state,_ = env.reset()\n",
    "    end,trunc = False,False\n",
    "    while not (end or trunc):\n",
    "        action = pi(state)\t\t\t\t\t\t\t\t\t\t\t\t\t\t\t\t# DADO EL ESTADO ACTUAL ELIGO UNA ACCION\n",
    "        next_state, reward, end, trunc, info = env.step(action)\t\t\t\t\t\t\t# SI REALIZO LA ACCION EL ENVIRONMENT ME ENTREGA EL NUEVO ESTADO + LA RECOMPENZA\n",
    "        Q[state,action] += alpha*(reward+gamma*Q[next_state].max()-Q[state,action])\t\t# ECUACION DE BELLMAN. EL Q-VALOR SE ACTUALIZA EN BASE A LA RECOMPENZA Y AL MEJOR Q-VALOR\n",
    "        state = next_state\t\t\t\t\t\t\t\t\t\t\t\t\t\t\t\t# DEL SIGUIENTE ESTADO\n",
    "print(Q)"
   ]
  },
  {
   "cell_type": "code",
   "execution_count": 19,
   "metadata": {},
   "outputs": [
    {
     "name": "stdout",
     "output_type": "stream",
     "text": [
      "oko\n"
     ]
    }
   ],
   "source": [
    "# ==========================================================\n",
    "#          DIBUJITO\n",
    "# PARA CERRARLO APRETAR LA TECLA Q CON LA VENTANA DEL\n",
    "# DIBJUITO ACTIVA ( O SINO SE PEGA )\n",
    "# ==========================================================\n",
    "state,_ = env.reset()\n",
    "\n",
    "end,trunc = 0,0\n",
    "while 1:\n",
    "    frame = cv2.cvtColor(env.render(),cv2.COLOR_BGR2RGB)\n",
    "    cv2.imshow('bla',frame)\n",
    "\n",
    "    if end or trunc:\n",
    "        break\n",
    "    if cv2.waitKey(200) == ord('q'):\n",
    "        break\n",
    "\n",
    "    action = pi(state,test=True)\n",
    "    state, reward, end, trunc, info = env.step(action)\n",
    "\n",
    "\n",
    "print('oko')\n",
    "cv2.waitKey(0)\n",
    "cv2.destroyAllWindows()\n",
    "\n"
   ]
  }
 ],
 "metadata": {
  "kernelspec": {
   "display_name": ".venv",
   "language": "python",
   "name": "python3"
  },
  "language_info": {
   "codemirror_mode": {
    "name": "ipython",
    "version": 3
   },
   "file_extension": ".py",
   "mimetype": "text/x-python",
   "name": "python",
   "nbconvert_exporter": "python",
   "pygments_lexer": "ipython3",
   "version": "3.11.6"
  }
 },
 "nbformat": 4,
 "nbformat_minor": 2
}
