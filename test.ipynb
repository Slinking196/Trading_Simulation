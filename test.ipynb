{
 "cells": [
  {
   "cell_type": "code",
   "execution_count": 15,
   "metadata": {},
   "outputs": [],
   "source": [
    "from trading import Environment\n",
    "from trading.strategies import Sma2Porcentaje\n",
    "from trading.adapter import Data2SmaPorcentaje\n",
    "from datetime import datetime\n",
    "from backtesting import Backtest\n",
    "from TradingFunctions import Strategy2sma_porcentaje\n",
    "import pandas as pd"
   ]
  },
  {
   "cell_type": "code",
   "execution_count": 16,
   "metadata": {},
   "outputs": [],
   "source": [
    "adapter = Data2SmaPorcentaje(n_sma1= 91, n_sma2= 40)\n",
    "strategy = Sma2Porcentaje(factor_sll= 0.903, facto_sls= 1.022, factor_swl= 1.095, factor_sws= 0.9)"
   ]
  },
  {
   "cell_type": "code",
   "execution_count": 17,
   "metadata": {},
   "outputs": [],
   "source": [
    "env = Environment('dataset.csv', data_adapter= adapter, cash= 1)"
   ]
  },
  {
   "cell_type": "code",
   "execution_count": 10,
   "metadata": {},
   "outputs": [
    {
     "data": {
      "text/plain": [
       "open_time          1.577842e+12\n",
       "open               7.219203e+03\n",
       "high               7.225787e+03\n",
       "low                7.218973e+03\n",
       "close              7.219541e+03\n",
       "sma_91             7.185591e+03\n",
       "sma_40             7.190335e+03\n",
       "sma_91_prev        7.185232e+03\n",
       "sma_40_prev        7.189367e+03\n",
       "reference_point    0.000000e+00\n",
       "state              2.000000e+00\n",
       "dtype: float64"
      ]
     },
     "execution_count": 10,
     "metadata": {},
     "output_type": "execute_result"
    }
   ],
   "source": [
    "env.actual_state()"
   ]
  },
  {
   "cell_type": "code",
   "execution_count": 5,
   "metadata": {},
   "outputs": [],
   "source": [
    "state = env.actual_state()\n",
    "while True:\n",
    "    action = strategy.next(state)\n",
    "    reward, state, end = env.step(action)\n",
    "\n",
    "    if end: break"
   ]
  },
  {
   "cell_type": "code",
   "execution_count": 6,
   "metadata": {},
   "outputs": [
    {
     "name": "stdout",
     "output_type": "stream",
     "text": [
      "Return [%]                                    100.0\n"
     ]
    }
   ],
   "source": [
    "env.get_summary()"
   ]
  },
  {
   "cell_type": "code",
   "execution_count": 7,
   "metadata": {},
   "outputs": [
    {
     "data": {
      "text/plain": [
       "1.0001796780111525"
      ]
     },
     "execution_count": 7,
     "metadata": {},
     "output_type": "execute_result"
    }
   ],
   "source": [
    "env.get_money()"
   ]
  },
  {
   "cell_type": "code",
   "execution_count": 18,
   "metadata": {},
   "outputs": [],
   "source": [
    "data = pd.read_csv(\"dataset.csv\")\n",
    "data = data.rename({'open':'Open',\n",
    "                    'high':'High',\n",
    "                    'low':'Low',\n",
    "                    'close':'Close'},axis=1).drop(['volume'],axis=1)\n",
    "data['open_time'] = pd.DatetimeIndex( data['open_time'].apply(lambda t:datetime.fromtimestamp(t/1000)) )\n",
    "data = data.set_index('open_time')\n",
    "data = data.sort_index(ascending=True)"
   ]
  },
  {
   "cell_type": "code",
   "execution_count": 19,
   "metadata": {},
   "outputs": [],
   "source": [
    "bt = Backtest(data, Strategy2sma_porcentaje, cash= 1e6, commission= .0005, exclusive_orders=True)"
   ]
  },
  {
   "cell_type": "code",
   "execution_count": 20,
   "metadata": {},
   "outputs": [
    {
     "data": {
      "text/plain": [
       "Start                     2019-12-31 21:00:00\n",
       "End                       2024-02-29 20:59:00\n",
       "Duration                   1520 days 23:59:00\n",
       "Exposure Time [%]                   98.357714\n",
       "Equity Final [$]              10057313.072375\n",
       "Equity Peak [$]               10467362.486072\n",
       "Return [%]                         905.731307\n",
       "Buy & Hold Return [%]              751.604602\n",
       "Return (Ann.) [%]                   73.944719\n",
       "Volatility (Ann.) [%]              133.543816\n",
       "Sharpe Ratio                         0.553711\n",
       "Sortino Ratio                        1.622296\n",
       "Calmar Ratio                         0.971269\n",
       "Max. Drawdown [%]                    -76.1321\n",
       "Avg. Drawdown [%]                   -1.030248\n",
       "Max. Drawdown Duration     1017 days 16:45:00\n",
       "Avg. Drawdown Duration        1 days 14:35:00\n",
       "# Trades                                  433\n",
       "Win Rate [%]                        43.879908\n",
       "Best Trade [%]                      12.050166\n",
       "Worst Trade [%]                    -10.691679\n",
       "Avg. Trade [%]                       0.535758\n",
       "Max. Trade Duration          45 days 18:58:00\n",
       "Avg. Trade Duration           3 days 10:55:00\n",
       "Profit Factor                        1.320903\n",
       "Expectancy [%]                       0.748415\n",
       "SQN                                   1.33096\n",
       "_strategy                 Strategy2sma_por...\n",
       "_equity_curve                             ...\n",
       "_trades                        Size  Entry...\n",
       "dtype: object"
      ]
     },
     "execution_count": 20,
     "metadata": {},
     "output_type": "execute_result"
    }
   ],
   "source": [
    "bt.run(x = [91, 40, 1.095, 0.903, 0.9, 1.022])"
   ]
  }
 ],
 "metadata": {
  "kernelspec": {
   "display_name": ".venv",
   "language": "python",
   "name": "python3"
  },
  "language_info": {
   "codemirror_mode": {
    "name": "ipython",
    "version": 3
   },
   "file_extension": ".py",
   "mimetype": "text/x-python",
   "name": "python",
   "nbconvert_exporter": "python",
   "pygments_lexer": "ipython3",
   "version": "3.11.9"
  }
 },
 "nbformat": 4,
 "nbformat_minor": 2
}
