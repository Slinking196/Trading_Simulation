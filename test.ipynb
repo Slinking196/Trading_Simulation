{
 "cells": [
  {
   "cell_type": "code",
   "execution_count": 1,
   "metadata": {},
   "outputs": [],
   "source": [
    "from trading import Environment\n",
    "from trading.strategies import Sma2Porcentaje\n",
    "from trading.adapter import Data2SmaPorcentaje\n",
    "from datetime import datetime\n",
    "from backtesting import Backtest\n",
    "from TradingFunctions import Strategy2sma_porcentaje\n",
    "import pandas as pd"
   ]
  },
  {
   "cell_type": "code",
   "execution_count": 26,
   "metadata": {},
   "outputs": [],
   "source": [
    "adapter = Data2SmaPorcentaje(n_sma1= 91, n_sma2= 40)\n",
    "strategy = Sma2Porcentaje(factor_sll= 0.903, facto_sls= 1.022, factor_swl= 1.095, factor_sws= 0.9)"
   ]
  },
  {
   "cell_type": "code",
   "execution_count": 27,
   "metadata": {},
   "outputs": [],
   "source": [
    "env = Environment('dataset.csv', data_adapter= adapter, cash= 1)"
   ]
  },
  {
   "cell_type": "code",
   "execution_count": 22,
   "metadata": {},
   "outputs": [
    {
     "data": {
      "text/plain": [
       "open_time          1.577864e+12\n",
       "open               7.221073e+03\n",
       "high               7.221073e+03\n",
       "low                7.218054e+03\n",
       "close              7.218054e+03\n",
       "sma_91             7.217510e+03\n",
       "sma_40             7.224847e+03\n",
       "sma_91_prev        7.217166e+03\n",
       "sma_40_prev        7.224916e+03\n",
       "reference_point    0.000000e+00\n",
       "state              2.000000e+00\n",
       "dtype: float64"
      ]
     },
     "execution_count": 22,
     "metadata": {},
     "output_type": "execute_result"
    }
   ],
   "source": [
    "env.actual_state()"
   ]
  },
  {
   "cell_type": "code",
   "execution_count": 28,
   "metadata": {},
   "outputs": [],
   "source": [
    "state = env.actual_state()\n",
    "while True:\n",
    "    action = strategy.next(state)\n",
    "    reward, state, end = env.step(action)\n",
    "\n",
    "    if end: break"
   ]
  },
  {
   "cell_type": "code",
   "execution_count": 29,
   "metadata": {},
   "outputs": [
    {
     "name": "stdout",
     "output_type": "stream",
     "text": [
      "Return [%]                                    619.1\n"
     ]
    }
   ],
   "source": [
    "env.get_summary()"
   ]
  },
  {
   "cell_type": "code",
   "execution_count": 30,
   "metadata": {},
   "outputs": [
    {
     "data": {
      "text/plain": [
       "6.200647468921302"
      ]
     },
     "execution_count": 30,
     "metadata": {},
     "output_type": "execute_result"
    }
   ],
   "source": [
    "env.get_money()"
   ]
  },
  {
   "cell_type": "code",
   "execution_count": 31,
   "metadata": {},
   "outputs": [],
   "source": [
    "data = pd.read_csv(\"dataset.csv\")\n",
    "data = data.rename({'open':'Open',\n",
    "                    'high':'High',\n",
    "                    'low':'Low',\n",
    "                    'close':'Close'},axis=1).drop(['volume'],axis=1)\n",
    "data = data[data['open_time']%(5*60000)==0]\n",
    "data['open_time'] = pd.DatetimeIndex( data['open_time'].apply(lambda t:datetime.fromtimestamp(t/1000)) )\n",
    "data = data.set_index('open_time')\n",
    "data = data.sort_index(ascending=True)"
   ]
  },
  {
   "cell_type": "code",
   "execution_count": 32,
   "metadata": {},
   "outputs": [],
   "source": [
    "bt = Backtest(data, Strategy2sma_porcentaje, cash= 1e6, commission= .0005, exclusive_orders=True)"
   ]
  },
  {
   "cell_type": "code",
   "execution_count": 33,
   "metadata": {},
   "outputs": [
    {
     "data": {
      "text/plain": [
       "Start                     2019-12-31 21:00:00\n",
       "End                       2024-02-29 20:55:00\n",
       "Duration                   1520 days 23:55:00\n",
       "Exposure Time [%]                   96.807427\n",
       "Equity Final [$]               6892830.126998\n",
       "Equity Peak [$]                8337505.021478\n",
       "Return [%]                         589.283013\n",
       "Buy & Hold Return [%]              753.257178\n",
       "Return (Ann.) [%]                   58.877054\n",
       "Volatility (Ann.) [%]              115.643898\n",
       "Sharpe Ratio                         0.509124\n",
       "Sortino Ratio                        1.307337\n",
       "Calmar Ratio                         0.753252\n",
       "Max. Drawdown [%]                  -78.163832\n",
       "Avg. Drawdown [%]                   -1.612324\n",
       "Max. Drawdown Duration     1051 days 18:45:00\n",
       "Avg. Drawdown Duration        3 days 02:49:00\n",
       "# Trades                                  153\n",
       "Win Rate [%]                        65.359477\n",
       "Best Trade [%]                      12.998571\n",
       "Worst Trade [%]                    -21.971497\n",
       "Avg. Trade [%]                       1.269869\n",
       "Max. Trade Duration          85 days 05:10:00\n",
       "Avg. Trade Duration           9 days 14:54:00\n",
       "Profit Factor                        1.542316\n",
       "Expectancy [%]                       1.805965\n",
       "SQN                                  1.169404\n",
       "_strategy                 Strategy2sma_por...\n",
       "_equity_curve                             ...\n",
       "_trades                        Size  Entry...\n",
       "dtype: object"
      ]
     },
     "execution_count": 33,
     "metadata": {},
     "output_type": "execute_result"
    }
   ],
   "source": [
    "bt.run(x = [91, 40, 1.095, 0.903, 0.9, 1.022])"
   ]
  }
 ],
 "metadata": {
  "kernelspec": {
   "display_name": ".venv",
   "language": "python",
   "name": "python3"
  },
  "language_info": {
   "codemirror_mode": {
    "name": "ipython",
    "version": 3
   },
   "file_extension": ".py",
   "mimetype": "text/x-python",
   "name": "python",
   "nbconvert_exporter": "python",
   "pygments_lexer": "ipython3",
   "version": "3.11.9"
  }
 },
 "nbformat": 4,
 "nbformat_minor": 2
}
