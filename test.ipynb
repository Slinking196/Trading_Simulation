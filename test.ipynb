{
 "cells": [
  {
   "cell_type": "code",
   "execution_count": 1,
   "metadata": {},
   "outputs": [],
   "source": [
    "from trading import Environment\n",
    "from trading.strategies import Sma2Porcentaje\n",
    "from trading.adapter import Data2SmaPorcentaje"
   ]
  },
  {
   "cell_type": "code",
   "execution_count": 2,
   "metadata": {},
   "outputs": [],
   "source": [
    "adapter = Data2SmaPorcentaje(n_sma1= 91, n_sma2= 40)\n",
    "strategy = Sma2Porcentaje(factor_sll= 0.903, facto_sls= 1.022, factor_swl= 1.095, factor_sws= 0.9)"
   ]
  },
  {
   "cell_type": "code",
   "execution_count": 3,
   "metadata": {},
   "outputs": [],
   "source": [
    "env = Environment('dataset.csv', data_adapter= adapter)"
   ]
  },
  {
   "cell_type": "code",
   "execution_count": 4,
   "metadata": {},
   "outputs": [
    {
     "data": {
      "text/plain": [
       "open_time          1.577842e+12\n",
       "open               7.219203e+03\n",
       "high               7.225787e+03\n",
       "low                7.218973e+03\n",
       "close              7.219541e+03\n",
       "sma_91             7.185591e+03\n",
       "sma_40             7.190335e+03\n",
       "sma_91_prev        7.185232e+03\n",
       "sma_40_prev        7.189367e+03\n",
       "reference_point    0.000000e+00\n",
       "state              2.000000e+00\n",
       "dtype: float64"
      ]
     },
     "execution_count": 4,
     "metadata": {},
     "output_type": "execute_result"
    }
   ],
   "source": [
    "env.actual_state()"
   ]
  },
  {
   "cell_type": "code",
   "execution_count": 5,
   "metadata": {},
   "outputs": [],
   "source": [
    "state = env.actual_state()\n",
    "while True:\n",
    "    action = strategy.next(state)\n",
    "    reward, state, end = env.step(action)\n",
    "\n",
    "    if end: break"
   ]
  },
  {
   "cell_type": "code",
   "execution_count": 9,
   "metadata": {},
   "outputs": [
    {
     "data": {
      "text/plain": [
       "6.612395979118865e+71"
      ]
     },
     "execution_count": 9,
     "metadata": {},
     "output_type": "execute_result"
    }
   ],
   "source": [
    "env.get_money()"
   ]
  }
 ],
 "metadata": {
  "kernelspec": {
   "display_name": ".venv",
   "language": "python",
   "name": "python3"
  },
  "language_info": {
   "codemirror_mode": {
    "name": "ipython",
    "version": 3
   },
   "file_extension": ".py",
   "mimetype": "text/x-python",
   "name": "python",
   "nbconvert_exporter": "python",
   "pygments_lexer": "ipython3",
   "version": "3.11.9"
  }
 },
 "nbformat": 4,
 "nbformat_minor": 2
}
