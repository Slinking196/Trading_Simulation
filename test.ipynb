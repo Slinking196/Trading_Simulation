{
 "cells": [
  {
   "cell_type": "code",
   "execution_count": 8,
   "metadata": {},
   "outputs": [],
   "source": [
    "from trading import Environment\n",
    "from trading.strategies import Strategy2sma"
   ]
  },
  {
   "cell_type": "code",
   "execution_count": 9,
   "metadata": {},
   "outputs": [],
   "source": [
    "env = Environment('dataset.csv', 1)"
   ]
  },
  {
   "cell_type": "code",
   "execution_count": 10,
   "metadata": {},
   "outputs": [
    {
     "data": {
      "text/plain": [
       "open_time          1.577838e+12\n",
       "open               7.180419e+03\n",
       "high               7.180480e+03\n",
       "low                7.178849e+03\n",
       "close              7.179066e+03\n",
       "atr15              2.627889e+00\n",
       "sma_10             7.182883e+03\n",
       "sma_20             7.183711e+03\n",
       "sma_10_prev        7.183692e+03\n",
       "sma_20_prev        7.184099e+03\n",
       "reference_point    0.000000e+00\n",
       "state              2.000000e+00\n",
       "dtype: float64"
      ]
     },
     "execution_count": 10,
     "metadata": {},
     "output_type": "execute_result"
    }
   ],
   "source": [
    "env.actual_state()"
   ]
  },
  {
   "cell_type": "code",
   "execution_count": 11,
   "metadata": {},
   "outputs": [],
   "source": [
    "strategy = Strategy2sma(factor_swl= 3.01065551126368, factor_sll= 3.2799685430480334, factor_sws= 3.493723878682184, factor_sls= 3.3829061923576824)"
   ]
  },
  {
   "cell_type": "code",
   "execution_count": 12,
   "metadata": {},
   "outputs": [
    {
     "data": {
      "text/plain": [
       "open_time          1.577838e+12\n",
       "open               7.180419e+03\n",
       "high               7.180480e+03\n",
       "low                7.178849e+03\n",
       "close              7.179066e+03\n",
       "atr15              2.627889e+00\n",
       "sma_10             7.182883e+03\n",
       "sma_20             7.183711e+03\n",
       "sma_10_prev        7.183692e+03\n",
       "sma_20_prev        7.184099e+03\n",
       "reference_point    0.000000e+00\n",
       "state              2.000000e+00\n",
       "dtype: float64"
      ]
     },
     "execution_count": 12,
     "metadata": {},
     "output_type": "execute_result"
    }
   ],
   "source": [
    "env.actual_state()"
   ]
  },
  {
   "cell_type": "code",
   "execution_count": 13,
   "metadata": {},
   "outputs": [],
   "source": [
    "state = env.actual_state()\n",
    "while True:\n",
    "    action = strategy.next(state)\n",
    "    reward, state, end = env.step(action)\n",
    "\n",
    "    if end: break"
   ]
  },
  {
   "cell_type": "code",
   "execution_count": 14,
   "metadata": {},
   "outputs": [
    {
     "data": {
      "text/plain": [
       "5.652822772273429e-87"
      ]
     },
     "execution_count": 14,
     "metadata": {},
     "output_type": "execute_result"
    }
   ],
   "source": [
    "env.get_money()"
   ]
  }
 ],
 "metadata": {
  "kernelspec": {
   "display_name": ".venv",
   "language": "python",
   "name": "python3"
  },
  "language_info": {
   "codemirror_mode": {
    "name": "ipython",
    "version": 3
   },
   "file_extension": ".py",
   "mimetype": "text/x-python",
   "name": "python",
   "nbconvert_exporter": "python",
   "pygments_lexer": "ipython3",
   "version": "3.11.9"
  }
 },
 "nbformat": 4,
 "nbformat_minor": 2
}
