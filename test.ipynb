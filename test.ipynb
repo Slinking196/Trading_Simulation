{
 "cells": [
  {
   "cell_type": "code",
   "execution_count": 1,
   "metadata": {},
   "outputs": [],
   "source": [
    "from trading import Environment\n",
    "from trading.strategies.simulation import Sma2Porcentaje, Sma4Porcentaje\n",
    "from trading.strategies.backtesting import Strategy2sma_porcentaje, Strategy4sma_porcentaje\n",
    "from trading.adapter import Data2SmaPorcentaje, Data4SmaPorcentaje\n",
    "from trading.utils import ACTIONS, BET_STATES\n",
    "from datetime import datetime\n",
    "from keras.layers import Input\n",
    "from keras.layers import Dense\n",
    "from keras.layers import Dropout\n",
    "from keras.models import Model\n",
    "from backtesting import Backtest\n",
    "import pandas as pd\n",
    "import numpy as np"
   ]
  },
  {
   "cell_type": "code",
   "execution_count": 2,
   "metadata": {},
   "outputs": [],
   "source": [
    "adapter = Data4SmaPorcentaje(n_sma1= 89, n_sma2= 8, n_sma3= 79, n_sma4= 45)\n",
    "strategy = Sma4Porcentaje(factor_sll= 0.9254, facto_sls= 1.0137, factor_swl= 1.0317, factor_sws= 0.9426)"
   ]
  },
  {
   "cell_type": "code",
   "execution_count": 3,
   "metadata": {},
   "outputs": [],
   "source": [
    "env = Environment('dataset.csv', data_adapter= adapter, cash= 1)"
   ]
  },
  {
   "cell_type": "code",
   "execution_count": 4,
   "metadata": {},
   "outputs": [
    {
     "data": {
      "text/plain": [
       "open_time      1.577864e+12\n",
       "open           7.229799e+03\n",
       "high           7.231096e+03\n",
       "low            7.229766e+03\n",
       "close          7.230864e+03\n",
       "sma1_prev     -9.911786e+00\n",
       "sma1          -9.860667e+00\n",
       "sma2          -2.926531e+00\n",
       "sma2_prev     -3.565863e+00\n",
       "reference      1.000000e+00\n",
       "bet_state      2.000000e+00\n",
       "price %        7.230864e+03\n",
       "reference %    7.230864e+03\n",
       "dtype: float64"
      ]
     },
     "execution_count": 4,
     "metadata": {},
     "output_type": "execute_result"
    }
   ],
   "source": [
    "actual, ml_state = env.actual_state()\n",
    "ml_state"
   ]
  },
  {
   "cell_type": "code",
   "execution_count": 12,
   "metadata": {},
   "outputs": [
    {
     "name": "stdout",
     "output_type": "stream",
     "text": [
      "Return [%]                                     99.0\n"
     ]
    }
   ],
   "source": [
    "env.get_summary()"
   ]
  },
  {
   "cell_type": "code",
   "execution_count": 13,
   "metadata": {},
   "outputs": [
    {
     "data": {
      "text/plain": [
       "1"
      ]
     },
     "execution_count": 13,
     "metadata": {},
     "output_type": "execute_result"
    }
   ],
   "source": [
    "env.get_money()"
   ]
  },
  {
   "cell_type": "code",
   "execution_count": 14,
   "metadata": {},
   "outputs": [],
   "source": [
    "data = pd.read_csv(\"dataset.csv\")\n",
    "data = data.rename({'open':'Open',\n",
    "                    'high':'High',\n",
    "                    'low':'Low',\n",
    "                    'close':'Close'},axis=1).drop(['volume'],axis=1)\n",
    "data = data[data['open_time']%(5*60000)==0].copy()\n",
    "data['open_time'] = pd.DatetimeIndex( data['open_time'].apply(lambda t:datetime.fromtimestamp(t/1000)) )\n",
    "data = data.set_index('open_time')\n",
    "data = data.sort_index(ascending=True)"
   ]
  },
  {
   "cell_type": "code",
   "execution_count": 15,
   "metadata": {},
   "outputs": [],
   "source": [
    "bt = Backtest(data, Strategy4sma_porcentaje, cash= 1e6, commission= .0005, exclusive_orders=True)"
   ]
  },
  {
   "cell_type": "code",
   "execution_count": 16,
   "metadata": {},
   "outputs": [
    {
     "data": {
      "text/plain": [
       "Start                     2019-12-31 21:00:00\n",
       "End                       2024-02-29 20:55:00\n",
       "Duration                   1520 days 23:55:00\n",
       "Exposure Time [%]                   87.857495\n",
       "Equity Final [$]              36129810.139618\n",
       "Equity Peak [$]               38157343.466844\n",
       "Return [%]                        3512.981014\n",
       "Buy & Hold Return [%]              753.257178\n",
       "Return (Ann.) [%]                  136.374795\n",
       "Volatility (Ann.) [%]              140.985954\n",
       "Sharpe Ratio                         0.967293\n",
       "Sortino Ratio                        3.768695\n",
       "Calmar Ratio                         2.951576\n",
       "Max. Drawdown [%]                  -46.204068\n",
       "Avg. Drawdown [%]                   -1.264034\n",
       "Max. Drawdown Duration      441 days 16:10:00\n",
       "Avg. Drawdown Duration        1 days 12:53:00\n",
       "# Trades                                  850\n",
       "Win Rate [%]                        61.647059\n",
       "Best Trade [%]                       9.240521\n",
       "Worst Trade [%]                    -12.858639\n",
       "Avg. Trade [%]                       0.423657\n",
       "Max. Trade Duration          31 days 20:55:00\n",
       "Avg. Trade Duration           1 days 13:39:00\n",
       "Profit Factor                        1.366723\n",
       "Expectancy [%]                       0.497632\n",
       "SQN                                  2.288812\n",
       "_strategy                 Strategy4sma_por...\n",
       "_equity_curve                             ...\n",
       "_trades                        Size  Entry...\n",
       "dtype: object"
      ]
     },
     "execution_count": 16,
     "metadata": {},
     "output_type": "execute_result"
    }
   ],
   "source": [
    "bt.run(x = [89, 8, 79, 45, 1.0317, 0.9254, 0.9426, 1.0137])"
   ]
  },
  {
   "cell_type": "markdown",
   "metadata": {},
   "source": [
    "## Model"
   ]
  },
  {
   "cell_type": "markdown",
   "metadata": {},
   "source": [
    "### Data"
   ]
  },
  {
   "cell_type": "code",
   "execution_count": 17,
   "metadata": {},
   "outputs": [],
   "source": [
    "adapter = Data4SmaPorcentaje(n_sma1= 89, n_sma2= 8, n_sma3= 79, n_sma4= 45)\n",
    "strategy = Sma4Porcentaje(factor_sll= 0.9254, facto_sls= 1.0137, factor_swl= 1.0317, factor_sws= 0.9426)"
   ]
  },
  {
   "cell_type": "code",
   "execution_count": 18,
   "metadata": {},
   "outputs": [],
   "source": [
    "env = Environment('dataset.csv', data_adapter= adapter, cash= 1)"
   ]
  },
  {
   "cell_type": "code",
   "execution_count": 19,
   "metadata": {},
   "outputs": [],
   "source": [
    "data, labels = [], []\n",
    "\n",
    "state, ml_state = env.actual_state()\n",
    "while True:\n",
    "    action = strategy.next(state)\n",
    "\n",
    "    # act = np.argmax(action)\n",
    "    # if act == ACTIONS.OPEN_LONG.value or act == ACTIONS.OPEN_SHORT.value:\n",
    "    #     temp_x, temp_y = [ml_state], [action]\n",
    "    # elif (state.iloc[14] == BET_STATES.IN_LONG.value or state.iloc[14] == BET_STATES.IN_SHORT.value) \\\n",
    "    #       and act == ACTIONS.NONE.value:\n",
    "    #     temp_x.append(ml_state)\n",
    "    #     temp_y.append(action)\n",
    "    # elif act == ACTIONS.CLOSE_POS.value:\n",
    "    #     middle = (len(temp_x) // 2) - 1\n",
    "        \n",
    "    #     data.append(temp_x[0])\n",
    "    #     data.append(temp_x[middle])\n",
    "    data.append(ml_state)\n",
    "        # labels.append(temp_y[0])\n",
    "        # labels.append(temp_y[middle])\n",
    "    labels.append(action)\n",
    "\n",
    "    reward, state, ml_state, end = env.step(action)\n",
    "\n",
    "    if end: break"
   ]
  },
  {
   "cell_type": "code",
   "execution_count": null,
   "metadata": {},
   "outputs": [],
   "source": [
    "actions = np.zeros((4, ))\n",
    "for label in labels:\n",
    "    i = np.argmax(label)\n",
    "    actions[i] += 1"
   ]
  },
  {
   "cell_type": "code",
   "execution_count": null,
   "metadata": {},
   "outputs": [
    {
     "data": {
      "text/plain": [
       "array([524., 335., 849., 839.])"
      ]
     },
     "execution_count": 6,
     "metadata": {},
     "output_type": "execute_result"
    }
   ],
   "source": [
    "actions"
   ]
  },
  {
   "cell_type": "code",
   "execution_count": 46,
   "metadata": {},
   "outputs": [
    {
     "name": "stdout",
     "output_type": "stream",
     "text": [
      "Return [%]                                   2582.8\n"
     ]
    }
   ],
   "source": [
    "env.get_summary()"
   ]
  },
  {
   "cell_type": "code",
   "execution_count": 35,
   "metadata": {},
   "outputs": [],
   "source": [
    "from sklearn.tree import DecisionTreeClassifier\n",
    "from sklearn.model_selection import train_test_split\n",
    "\n",
    "model = DecisionTreeClassifier()\n",
    "X_train, X_test, y_train, y_test = train_test_split(data, labels, test_size= 0.5)\n",
    "model = model.fit(np.array(X_train), np.array(y_train))"
   ]
  },
  {
   "cell_type": "code",
   "execution_count": 36,
   "metadata": {},
   "outputs": [],
   "source": [
    "env.reset()\n",
    "state, ml_state = env.actual_state()\n",
    "\n",
    "while True:\n",
    "    action = model.predict(np.array([ml_state]))[0]\n",
    "    reward, state, ml_state, end = env.step(action)\n",
    "\n",
    "    if end: break"
   ]
  },
  {
   "cell_type": "code",
   "execution_count": 37,
   "metadata": {},
   "outputs": [
    {
     "name": "stdout",
     "output_type": "stream",
     "text": [
      "Return [%]                                   1785.6\n"
     ]
    }
   ],
   "source": [
    "env.get_summary()"
   ]
  },
  {
   "cell_type": "markdown",
   "metadata": {},
   "source": [
    "## Metricas"
   ]
  },
  {
   "cell_type": "code",
   "execution_count": 38,
   "metadata": {},
   "outputs": [],
   "source": [
    "from sklearn.metrics import mean_absolute_error, mean_squared_error\n",
    "from sklearn.metrics import f1_score, recall_score, accuracy_score"
   ]
  },
  {
   "cell_type": "code",
   "execution_count": 39,
   "metadata": {},
   "outputs": [],
   "source": [
    "results = model.predict(X_test)"
   ]
  },
  {
   "cell_type": "code",
   "execution_count": 32,
   "metadata": {},
   "outputs": [],
   "source": [
    "c, d = [], []\n",
    "\n",
    "for i in range(len(X_test)):\n",
    "    if np.argmax(y_test[i]) == ACTIONS.CLOSE_POS.value:\n",
    "        c.append(X_test[i])\n",
    "        d.append(y_test[i])"
   ]
  },
  {
   "cell_type": "code",
   "execution_count": null,
   "metadata": {},
   "outputs": [
    {
     "data": {
      "text/plain": [
       "0.6566265060240963"
      ]
     },
     "execution_count": 33,
     "metadata": {},
     "output_type": "execute_result"
    }
   ],
   "source": [
    "accuracy_score(d, model.predict(c))"
   ]
  },
  {
   "cell_type": "code",
   "execution_count": 40,
   "metadata": {},
   "outputs": [
    {
     "name": "stdout",
     "output_type": "stream",
     "text": [
      "Resultados: \n",
      "MAE:                            0.0\n",
      "MSE:                            0.0\n",
      "Accuracy:                       1.0\n",
      "F1 Score:                     0.986\n",
      "Recall:                       0.975\n",
      "Accuracy:                       1.0\n"
     ]
    }
   ],
   "source": [
    "mae = mean_absolute_error(y_test, results)\n",
    "mse = mean_squared_error(y_test, results)\n",
    "f1 = f1_score(y_test, results, average= 'macro')\n",
    "recall = recall_score(y_test, results, average= 'macro')\n",
    "accuracy = accuracy_score(y_test, results)\n",
    "\n",
    "print('Resultados: ')\n",
    "print(f'MAE: {round(mae, 3):>30}')\n",
    "print(f'MSE: {round(mse, 3):>30}')\n",
    "print(f'Accuracy: {round(accuracy, 3):>25}')\n",
    "print(f'F1 Score: {round(f1, 3):>25}')\n",
    "print(f'Recall: {round(recall, 3):>27}')\n",
    "print(f'Accuracy: {round(accuracy, 3):>25}')"
   ]
  }
 ],
 "metadata": {
  "kernelspec": {
   "display_name": ".venv",
   "language": "python",
   "name": "python3"
  },
  "language_info": {
   "codemirror_mode": {
    "name": "ipython",
    "version": 3
   },
   "file_extension": ".py",
   "mimetype": "text/x-python",
   "name": "python",
   "nbconvert_exporter": "python",
   "pygments_lexer": "ipython3",
   "version": "3.11.9"
  }
 },
 "nbformat": 4,
 "nbformat_minor": 2
}
